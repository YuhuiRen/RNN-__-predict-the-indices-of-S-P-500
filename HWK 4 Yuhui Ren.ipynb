{
 "cells": [
  {
   "cell_type": "markdown",
   "metadata": {},
   "source": [
    "# Assignment 4: recurrent neural networks\n",
    "\n",
    "In this assignment, you'll create a model with LSTM or GRU to predict the indices of S&P 500"
   ]
  },
  {
   "cell_type": "markdown",
   "metadata": {},
   "source": [
    "## Dataset and Objectives\n",
    "\n",
    "A time series containing the indices of S&P 500 from 2010 to 2017 can be found at <a href = \"https://archive.ics.uci.edu/ml/datasets/CNNpred%3A+CNN-based+stock+market+prediction+using+a+diverse+set+of+variables\"> UCI Machine Data Repository</a>. A detailed description of the dataset can be found <a href = \"https://www.researchgate.net/profile/Ehsan-Hoseinzade/publication/331911968_CNNpred_CNN-based_stock_market_prediction_using_a_diverse_set_of_variables/links/5cb07442299bf120975fd0fd/CNNpred-CNN-based-stock-market-prediction-using-a-diverse-set-of-variables.pdf\">here (see pages 31-32)</a>. A snippet of the data is shown below. \n",
    "\n",
    "You're required to build a model to predict the daily `close` indices. From the plot, you can find that the indices fluctuate from day to day.\n",
    "\n",
    "The exact formulation of our problem will be the following: given data going as far back as `lookback` timesteps (e.g. 5 days, a timestep is 1 day), we would like to make two predictions:\n",
    "- **Regression**: the `Close` indices of next day\n",
    "- **Binary Classification**: whether the `Close` indices of next day is higher than the current day (i.e. `Buy or Hold`)\n",
    "\n",
    "There are a number of useful features in the dataset, e.g. `change of volume`, `moving average` etc. For demonstration, I just show a few of them below."
   ]
  },
  {
   "cell_type": "code",
   "execution_count": 1,
   "metadata": {},
   "outputs": [
    {
     "name": "stdout",
     "output_type": "stream",
     "text": [
      "Start date:  2010-03-15 00:00:00\n",
      "End date:  2017-11-15 00:00:00\n"
     ]
    },
    {
     "data": {
      "text/html": [
       "<div>\n",
       "<style scoped>\n",
       "    .dataframe tbody tr th:only-of-type {\n",
       "        vertical-align: middle;\n",
       "    }\n",
       "\n",
       "    .dataframe tbody tr th {\n",
       "        vertical-align: top;\n",
       "    }\n",
       "\n",
       "    .dataframe thead th {\n",
       "        text-align: right;\n",
       "    }\n",
       "</style>\n",
       "<table border=\"1\" class=\"dataframe\">\n",
       "  <thead>\n",
       "    <tr style=\"text-align: right;\">\n",
       "      <th></th>\n",
       "      <th>Date</th>\n",
       "      <th>Close</th>\n",
       "      <th>Volume</th>\n",
       "      <th>mom</th>\n",
       "      <th>mom1</th>\n",
       "      <th>mom2</th>\n",
       "      <th>mom3</th>\n",
       "      <th>ROC_5</th>\n",
       "      <th>ROC_10</th>\n",
       "      <th>ROC_15</th>\n",
       "      <th>ROC_20</th>\n",
       "      <th>EMA_10</th>\n",
       "      <th>EMA_20</th>\n",
       "      <th>EMA_50</th>\n",
       "    </tr>\n",
       "  </thead>\n",
       "  <tbody>\n",
       "    <tr>\n",
       "      <th>49</th>\n",
       "      <td>2010-03-15</td>\n",
       "      <td>1150.510010</td>\n",
       "      <td>-0.155038</td>\n",
       "      <td>0.000452</td>\n",
       "      <td>-0.000217</td>\n",
       "      <td>0.004042</td>\n",
       "      <td>0.004525</td>\n",
       "      <td>1.054898</td>\n",
       "      <td>3.119095</td>\n",
       "      <td>3.835705</td>\n",
       "      <td>6.973436</td>\n",
       "      <td>1137.793700</td>\n",
       "      <td>1125.859965</td>\n",
       "      <td>1112.939394</td>\n",
       "    </tr>\n",
       "    <tr>\n",
       "      <th>50</th>\n",
       "      <td>2010-03-16</td>\n",
       "      <td>1159.459961</td>\n",
       "      <td>0.049389</td>\n",
       "      <td>0.007779</td>\n",
       "      <td>0.000452</td>\n",
       "      <td>-0.000217</td>\n",
       "      <td>0.004042</td>\n",
       "      <td>1.666887</td>\n",
       "      <td>3.679651</td>\n",
       "      <td>5.925451</td>\n",
       "      <td>5.899327</td>\n",
       "      <td>1141.733020</td>\n",
       "      <td>1129.059965</td>\n",
       "      <td>1114.763730</td>\n",
       "    </tr>\n",
       "    <tr>\n",
       "      <th>51</th>\n",
       "      <td>2010-03-17</td>\n",
       "      <td>1166.209961</td>\n",
       "      <td>0.135803</td>\n",
       "      <td>0.005822</td>\n",
       "      <td>0.007779</td>\n",
       "      <td>0.000452</td>\n",
       "      <td>-0.000217</td>\n",
       "      <td>1.798167</td>\n",
       "      <td>4.238501</td>\n",
       "      <td>5.516446</td>\n",
       "      <td>6.066334</td>\n",
       "      <td>1146.183373</td>\n",
       "      <td>1132.598059</td>\n",
       "      <td>1116.781230</td>\n",
       "    </tr>\n",
       "    <tr>\n",
       "      <th>52</th>\n",
       "      <td>2010-03-18</td>\n",
       "      <td>1165.829956</td>\n",
       "      <td>-0.146819</td>\n",
       "      <td>-0.000326</td>\n",
       "      <td>0.005822</td>\n",
       "      <td>0.007779</td>\n",
       "      <td>0.000452</td>\n",
       "      <td>1.355366</td>\n",
       "      <td>3.816664</td>\n",
       "      <td>5.702034</td>\n",
       "      <td>5.338148</td>\n",
       "      <td>1149.755479</td>\n",
       "      <td>1135.763002</td>\n",
       "      <td>1118.704709</td>\n",
       "    </tr>\n",
       "    <tr>\n",
       "      <th>53</th>\n",
       "      <td>2010-03-19</td>\n",
       "      <td>1159.900024</td>\n",
       "      <td>0.230936</td>\n",
       "      <td>-0.005086</td>\n",
       "      <td>-0.000326</td>\n",
       "      <td>0.005822</td>\n",
       "      <td>0.007779</td>\n",
       "      <td>0.861750</td>\n",
       "      <td>1.861779</td>\n",
       "      <td>5.016798</td>\n",
       "      <td>4.573688</td>\n",
       "      <td>1151.599942</td>\n",
       "      <td>1138.061766</td>\n",
       "      <td>1120.320212</td>\n",
       "    </tr>\n",
       "  </tbody>\n",
       "</table>\n",
       "</div>"
      ],
      "text/plain": [
       "         Date        Close    Volume       mom      mom1      mom2      mom3  \\\n",
       "49 2010-03-15  1150.510010 -0.155038  0.000452 -0.000217  0.004042  0.004525   \n",
       "50 2010-03-16  1159.459961  0.049389  0.007779  0.000452 -0.000217  0.004042   \n",
       "51 2010-03-17  1166.209961  0.135803  0.005822  0.007779  0.000452 -0.000217   \n",
       "52 2010-03-18  1165.829956 -0.146819 -0.000326  0.005822  0.007779  0.000452   \n",
       "53 2010-03-19  1159.900024  0.230936 -0.005086 -0.000326  0.005822  0.007779   \n",
       "\n",
       "       ROC_5    ROC_10    ROC_15    ROC_20       EMA_10       EMA_20  \\\n",
       "49  1.054898  3.119095  3.835705  6.973436  1137.793700  1125.859965   \n",
       "50  1.666887  3.679651  5.925451  5.899327  1141.733020  1129.059965   \n",
       "51  1.798167  4.238501  5.516446  6.066334  1146.183373  1132.598059   \n",
       "52  1.355366  3.816664  5.702034  5.338148  1149.755479  1135.763002   \n",
       "53  0.861750  1.861779  5.016798  4.573688  1151.599942  1138.061766   \n",
       "\n",
       "         EMA_50  \n",
       "49  1112.939394  \n",
       "50  1114.763730  \n",
       "51  1116.781230  \n",
       "52  1118.704709  \n",
       "53  1120.320212  "
      ]
     },
     "execution_count": 1,
     "metadata": {},
     "output_type": "execute_result"
    }
   ],
   "source": [
    "import pandas as pd\n",
    "import numpy as np\n",
    "\n",
    "data = pd.read_csv(\"Processed_S&P.csv\", parse_dates=[0])\n",
    "data = data[[\"Date\", \"Close\", \"Volume\", \\\n",
    "             \"mom\", \"mom1\", \"mom2\", \"mom3\",\\\n",
    "            \"ROC_5\",\"ROC_10\",\"ROC_15\",\"ROC_20\",\\\n",
    "            \"EMA_10\",\"EMA_20\",\"EMA_50\"]]\n",
    "\n",
    "# drop records with missing values\n",
    "data = data.dropna(axis = 0)\n",
    "print(\"Start date: \", data[\"Date\"].min())\n",
    "print(\"End date: \", data[\"Date\"].max())\n",
    "\n",
    "data = data.sort_values(by = \"Date\")\n",
    "\n",
    "data.head()"
   ]
  },
  {
   "cell_type": "code",
   "execution_count": 402,
   "metadata": {
    "scrolled": true
   },
   "outputs": [
    {
     "data": {
      "image/png": "[encoded data removed]",
      "text/plain": [
       "<Figure size 720x360 with 1 Axes>"
      ]
     },
     "metadata": {
      "needs_background": "light"
     },
     "output_type": "display_data"
    },
    {
     "data": {
      "image/png": "[encoded data removed]",
      "text/plain": [
       "<Figure size 720x360 with 1 Axes>"
      ]
     },
     "metadata": {
      "needs_background": "light"
     },
     "output_type": "display_data"
    }
   ],
   "source": [
    "from matplotlib import pyplot as plt\n",
    "data.loc[0:500][\"Close\"].plot(kind=\"line\", figsize=(10,5), title = \"Indices - Close\")\n",
    "plt.legend()\n",
    "plt.show()\n",
    "\n",
    "data.loc[0:500][\"Volume\"].plot(kind=\"line\", figsize=(10,5), title = \"Volume Change\")\n",
    "plt.legend()\n",
    "plt.show()"
   ]
  },
  {
   "cell_type": "markdown",
   "metadata": {},
   "source": [
    "## Task 1: Preparing the data\n",
    "\n",
    "* Preprocess the data to a format a neural network can ingest. Write a function called `generate_data` to generate input and target values as follows:\n",
    "\n",
    "    - Set `2016-05-06` as a cut-off date and use all observations after this date for testing purpose (20% of the observations) and the remaining for training (including validation).  \n",
    "    \n",
    "    - Transform the dataset by `z-normalization`. Since the features are in different scales, it is necessary to normalize them. A typical technique is z-normalization, $x^{'} = (x - \\mu)/\\sigma$ where $\\mu$ is the mean and $\\sigma$ is the standard deviation. However, don't rely on batch normalization technique here, since a random batch cannot preserve the trending of the time series. Instead, for this step, do the following:\n",
    "        - Fit a scaler using `only the training subset` (i.e calculate $\\mu$ and $\\sigma$). Your testing subset should `never` be exposed to the scaler or your training program. You can use package <a href =\"https://scikit-learn.org/stable/modules/generated/sklearn.preprocessing.StandardScaler.html\"> `sklearn.preprocessing.StandardScaler`</a> for this step.\n",
    "        - Transform the entire dataset using the fitted scaler. If you want to transform the data back to the orginal, you can call the scaler's `inverse_transform` function. \n",
    "\n",
    "    - Slice the transformed dataset in every `lookback` days. For example, let ($x_i, y_i$) denote the $i$th sample. $x_i$ `= X[i : (i + lookback)]` and $y_i$ `= Y[ i + lookback]`, where X is the transformed values of the dataframe, `feature_cols` are the columns you use as features, and Y is the transformed `Close` column (or the binary target). You can use any column as a feature, or engineer new features.   \n",
    "    \n",
    "    - Return transformed features, targets (for both regression and binary classification) and scaler.\n",
    "    \n",
    "    \n",
    "\n",
    "* Finally, set aside the portion of transformed observations after the cut-off date as the `testing` subset. Then for the remaining ones, hold out 20% for `validation` and the rest for model `training`."
   ]
  },
  {
   "cell_type": "code",
   "execution_count": 2,
   "metadata": {},
   "outputs": [
    {
     "name": "stdout",
     "output_type": "stream",
     "text": [
      "(1549, 13)\n",
      "(386, 13)\n"
     ]
    }
   ],
   "source": [
    "# split data into train set & test set\n",
    "\n",
    "cut_off_date ='2016-05-06'\n",
    "\n",
    "train_data = data[data['Date']<=cut_off_date].drop(['Date'],axis=1)     # no date\n",
    "test_data = data[data['Date']>cut_off_date].drop(['Date'],axis=1)      # no date\n",
    "\n",
    "print(train_data.shape)\n",
    "print(test_data.shape)"
   ]
  },
  {
   "cell_type": "code",
   "execution_count": 3,
   "metadata": {},
   "outputs": [
    {
     "name": "stdout",
     "output_type": "stream",
     "text": [
      "(1935, 13)\n"
     ]
    }
   ],
   "source": [
    "data = data.drop(['Date'],axis=1)           # no date\n",
    "print(data.shape)"
   ]
  },
  {
   "cell_type": "code",
   "execution_count": 4,
   "metadata": {},
   "outputs": [
    {
     "data": {
      "text/plain": [
       "array([[-1.328, -0.796,  0.003, -0.064,  0.36 ],\n",
       "       [-1.302,  0.138,  0.732,  0.003, -0.064],\n",
       "       [-1.282,  0.533,  0.537,  0.733,  0.003]])"
      ]
     },
     "execution_count": 4,
     "metadata": {},
     "output_type": "execute_result"
    }
   ],
   "source": [
    "# scale data\n",
    "\n",
    "from sklearn.preprocessing import StandardScaler\n",
    "\n",
    "scaler = StandardScaler()\n",
    "scaler.fit(train_data)                             # fit\n",
    "data_scaled = scaler.transform(data).round(3)      # transform\n",
    "\n",
    "data_scaled[:3,:5]                                  # show 3 rows    # numpy array"
   ]
  },
  {
   "cell_type": "code",
   "execution_count": 5,
   "metadata": {},
   "outputs": [],
   "source": [
    "data_scaled_df = pd.DataFrame(data_scaled, \\\n",
    "                              columns=['Close','Volume','mom','mom1','mom2','mom3','ROC_5','ROC_10','ROC_15','ROC_20',\\\n",
    "                                       'EMA_10','EMA_20','EMA_50'] )     # shape (1935, 13)"
   ]
  },
  {
   "cell_type": "code",
   "execution_count": 6,
   "metadata": {},
   "outputs": [
    {
     "data": {
      "text/html": [
       "<div>\n",
       "<style scoped>\n",
       "    .dataframe tbody tr th:only-of-type {\n",
       "        vertical-align: middle;\n",
       "    }\n",
       "\n",
       "    .dataframe tbody tr th {\n",
       "        vertical-align: top;\n",
       "    }\n",
       "\n",
       "    .dataframe thead th {\n",
       "        text-align: right;\n",
       "    }\n",
       "</style>\n",
       "<table border=\"1\" class=\"dataframe\">\n",
       "  <thead>\n",
       "    <tr style=\"text-align: right;\">\n",
       "      <th></th>\n",
       "      <th>Close</th>\n",
       "      <th>Volume</th>\n",
       "      <th>mom</th>\n",
       "      <th>mom1</th>\n",
       "      <th>mom2</th>\n",
       "      <th>mom3</th>\n",
       "      <th>ROC_5</th>\n",
       "      <th>ROC_10</th>\n",
       "      <th>ROC_15</th>\n",
       "      <th>ROC_20</th>\n",
       "      <th>EMA_10</th>\n",
       "      <th>EMA_20</th>\n",
       "      <th>EMA_50</th>\n",
       "      <th>Y_bi</th>\n",
       "    </tr>\n",
       "  </thead>\n",
       "  <tbody>\n",
       "    <tr>\n",
       "      <th>0</th>\n",
       "      <td>-1.328</td>\n",
       "      <td>-0.796</td>\n",
       "      <td>0.003</td>\n",
       "      <td>-0.064</td>\n",
       "      <td>0.360</td>\n",
       "      <td>0.407</td>\n",
       "      <td>0.396</td>\n",
       "      <td>0.976</td>\n",
       "      <td>0.960</td>\n",
       "      <td>1.633</td>\n",
       "      <td>-1.359</td>\n",
       "      <td>-1.387</td>\n",
       "      <td>-1.401</td>\n",
       "      <td>1</td>\n",
       "    </tr>\n",
       "    <tr>\n",
       "      <th>1</th>\n",
       "      <td>-1.302</td>\n",
       "      <td>0.138</td>\n",
       "      <td>0.732</td>\n",
       "      <td>0.003</td>\n",
       "      <td>-0.064</td>\n",
       "      <td>0.359</td>\n",
       "      <td>0.684</td>\n",
       "      <td>1.179</td>\n",
       "      <td>1.591</td>\n",
       "      <td>1.345</td>\n",
       "      <td>-1.348</td>\n",
       "      <td>-1.378</td>\n",
       "      <td>-1.396</td>\n",
       "      <td>1</td>\n",
       "    </tr>\n",
       "    <tr>\n",
       "      <th>2</th>\n",
       "      <td>-1.282</td>\n",
       "      <td>0.533</td>\n",
       "      <td>0.537</td>\n",
       "      <td>0.733</td>\n",
       "      <td>0.003</td>\n",
       "      <td>-0.065</td>\n",
       "      <td>0.746</td>\n",
       "      <td>1.381</td>\n",
       "      <td>1.468</td>\n",
       "      <td>1.390</td>\n",
       "      <td>-1.335</td>\n",
       "      <td>-1.367</td>\n",
       "      <td>-1.390</td>\n",
       "      <td>0</td>\n",
       "    </tr>\n",
       "    <tr>\n",
       "      <th>3</th>\n",
       "      <td>-1.283</td>\n",
       "      <td>-0.758</td>\n",
       "      <td>-0.075</td>\n",
       "      <td>0.538</td>\n",
       "      <td>0.732</td>\n",
       "      <td>0.002</td>\n",
       "      <td>0.538</td>\n",
       "      <td>1.228</td>\n",
       "      <td>1.524</td>\n",
       "      <td>1.195</td>\n",
       "      <td>-1.325</td>\n",
       "      <td>-1.358</td>\n",
       "      <td>-1.385</td>\n",
       "      <td>0</td>\n",
       "    </tr>\n",
       "    <tr>\n",
       "      <th>4</th>\n",
       "      <td>-1.300</td>\n",
       "      <td>0.968</td>\n",
       "      <td>-0.549</td>\n",
       "      <td>-0.075</td>\n",
       "      <td>0.537</td>\n",
       "      <td>0.732</td>\n",
       "      <td>0.305</td>\n",
       "      <td>0.520</td>\n",
       "      <td>1.317</td>\n",
       "      <td>0.990</td>\n",
       "      <td>-1.319</td>\n",
       "      <td>-1.351</td>\n",
       "      <td>-1.380</td>\n",
       "      <td>1</td>\n",
       "    </tr>\n",
       "    <tr>\n",
       "      <th>5</th>\n",
       "      <td>-1.283</td>\n",
       "      <td>-0.921</td>\n",
       "      <td>0.465</td>\n",
       "      <td>-0.549</td>\n",
       "      <td>-0.075</td>\n",
       "      <td>0.537</td>\n",
       "      <td>0.526</td>\n",
       "      <td>0.714</td>\n",
       "      <td>1.158</td>\n",
       "      <td>1.162</td>\n",
       "      <td>-1.312</td>\n",
       "      <td>-1.344</td>\n",
       "      <td>-1.375</td>\n",
       "      <td>1</td>\n",
       "    </tr>\n",
       "    <tr>\n",
       "      <th>6</th>\n",
       "      <td>-1.259</td>\n",
       "      <td>0.073</td>\n",
       "      <td>0.672</td>\n",
       "      <td>0.465</td>\n",
       "      <td>-0.549</td>\n",
       "      <td>-0.076</td>\n",
       "      <td>0.497</td>\n",
       "      <td>0.917</td>\n",
       "      <td>1.310</td>\n",
       "      <td>1.712</td>\n",
       "      <td>-1.301</td>\n",
       "      <td>-1.335</td>\n",
       "      <td>-1.369</td>\n",
       "      <td>0</td>\n",
       "    </tr>\n",
       "    <tr>\n",
       "      <th>7</th>\n",
       "      <td>-1.278</td>\n",
       "      <td>0.217</td>\n",
       "      <td>-0.590</td>\n",
       "      <td>0.672</td>\n",
       "      <td>0.465</td>\n",
       "      <td>-0.550</td>\n",
       "      <td>-0.039</td>\n",
       "      <td>0.544</td>\n",
       "      <td>1.123</td>\n",
       "      <td>1.279</td>\n",
       "      <td>-1.296</td>\n",
       "      <td>-1.328</td>\n",
       "      <td>-1.364</td>\n",
       "      <td>0</td>\n",
       "    </tr>\n",
       "    <tr>\n",
       "      <th>8</th>\n",
       "      <td>-1.284</td>\n",
       "      <td>0.848</td>\n",
       "      <td>-0.212</td>\n",
       "      <td>-0.589</td>\n",
       "      <td>0.672</td>\n",
       "      <td>0.464</td>\n",
       "      <td>-0.104</td>\n",
       "      <td>0.333</td>\n",
       "      <td>0.952</td>\n",
       "      <td>1.290</td>\n",
       "      <td>-1.293</td>\n",
       "      <td>-1.322</td>\n",
       "      <td>-1.359</td>\n",
       "      <td>1</td>\n",
       "    </tr>\n",
       "    <tr>\n",
       "      <th>9</th>\n",
       "      <td>-1.281</td>\n",
       "      <td>-0.862</td>\n",
       "      <td>0.031</td>\n",
       "      <td>-0.212</td>\n",
       "      <td>-0.590</td>\n",
       "      <td>0.671</td>\n",
       "      <td>0.171</td>\n",
       "      <td>0.368</td>\n",
       "      <td>0.542</td>\n",
       "      <td>1.271</td>\n",
       "      <td>-1.290</td>\n",
       "      <td>-1.317</td>\n",
       "      <td>-1.355</td>\n",
       "      <td>1</td>\n",
       "    </tr>\n",
       "  </tbody>\n",
       "</table>\n",
       "</div>"
      ],
      "text/plain": [
       "   Close  Volume    mom   mom1   mom2   mom3  ROC_5  ROC_10  ROC_15  ROC_20  \\\n",
       "0 -1.328  -0.796  0.003 -0.064  0.360  0.407  0.396   0.976   0.960   1.633   \n",
       "1 -1.302   0.138  0.732  0.003 -0.064  0.359  0.684   1.179   1.591   1.345   \n",
       "2 -1.282   0.533  0.537  0.733  0.003 -0.065  0.746   1.381   1.468   1.390   \n",
       "3 -1.283  -0.758 -0.075  0.538  0.732  0.002  0.538   1.228   1.524   1.195   \n",
       "4 -1.300   0.968 -0.549 -0.075  0.537  0.732  0.305   0.520   1.317   0.990   \n",
       "5 -1.283  -0.921  0.465 -0.549 -0.075  0.537  0.526   0.714   1.158   1.162   \n",
       "6 -1.259   0.073  0.672  0.465 -0.549 -0.076  0.497   0.917   1.310   1.712   \n",
       "7 -1.278   0.217 -0.590  0.672  0.465 -0.550 -0.039   0.544   1.123   1.279   \n",
       "8 -1.284   0.848 -0.212 -0.589  0.672  0.464 -0.104   0.333   0.952   1.290   \n",
       "9 -1.281  -0.862  0.031 -0.212 -0.590  0.671  0.171   0.368   0.542   1.271   \n",
       "\n",
       "   EMA_10  EMA_20  EMA_50  Y_bi  \n",
       "0  -1.359  -1.387  -1.401     1  \n",
       "1  -1.348  -1.378  -1.396     1  \n",
       "2  -1.335  -1.367  -1.390     0  \n",
       "3  -1.325  -1.358  -1.385     0  \n",
       "4  -1.319  -1.351  -1.380     1  \n",
       "5  -1.312  -1.344  -1.375     1  \n",
       "6  -1.301  -1.335  -1.369     0  \n",
       "7  -1.296  -1.328  -1.364     0  \n",
       "8  -1.293  -1.322  -1.359     1  \n",
       "9  -1.290  -1.317  -1.355     1  "
      ]
     },
     "execution_count": 6,
     "metadata": {},
     "output_type": "execute_result"
    }
   ],
   "source": [
    " # add Y_bi column, 0 or 1\n",
    "\n",
    "data_scaled_df['Y_bi']=0                   \n",
    "for i in range(len(data_scaled_df)-1):\n",
    "    if data_scaled_df.at[i+1, 'Close'] > data_scaled_df.at[i, 'Close']:\n",
    "        data_scaled_df.at[i, 'Y_bi']=1\n",
    "\n",
    "data_scaled_df.head(10)"
   ]
  },
  {
   "cell_type": "code",
   "execution_count": 7,
   "metadata": {},
   "outputs": [
    {
     "data": {
      "text/html": [
       "<div>\n",
       "<style scoped>\n",
       "    .dataframe tbody tr th:only-of-type {\n",
       "        vertical-align: middle;\n",
       "    }\n",
       "\n",
       "    .dataframe tbody tr th {\n",
       "        vertical-align: top;\n",
       "    }\n",
       "\n",
       "    .dataframe thead th {\n",
       "        text-align: right;\n",
       "    }\n",
       "</style>\n",
       "<table border=\"1\" class=\"dataframe\">\n",
       "  <thead>\n",
       "    <tr style=\"text-align: right;\">\n",
       "      <th></th>\n",
       "      <th>Close</th>\n",
       "      <th>Volume</th>\n",
       "      <th>mom</th>\n",
       "      <th>mom1</th>\n",
       "      <th>mom2</th>\n",
       "      <th>mom3</th>\n",
       "      <th>ROC_5</th>\n",
       "      <th>ROC_10</th>\n",
       "      <th>ROC_15</th>\n",
       "      <th>ROC_20</th>\n",
       "      <th>EMA_10</th>\n",
       "      <th>EMA_20</th>\n",
       "      <th>EMA_50</th>\n",
       "      <th>Y_bi</th>\n",
       "    </tr>\n",
       "  </thead>\n",
       "  <tbody>\n",
       "    <tr>\n",
       "      <th>0</th>\n",
       "      <td>-1.328</td>\n",
       "      <td>-0.796</td>\n",
       "      <td>0.003</td>\n",
       "      <td>-0.064</td>\n",
       "      <td>0.360</td>\n",
       "      <td>0.407</td>\n",
       "      <td>0.396</td>\n",
       "      <td>0.976</td>\n",
       "      <td>0.960</td>\n",
       "      <td>1.633</td>\n",
       "      <td>-1.359</td>\n",
       "      <td>-1.387</td>\n",
       "      <td>-1.401</td>\n",
       "      <td>1</td>\n",
       "    </tr>\n",
       "    <tr>\n",
       "      <th>1</th>\n",
       "      <td>-1.302</td>\n",
       "      <td>0.138</td>\n",
       "      <td>0.732</td>\n",
       "      <td>0.003</td>\n",
       "      <td>-0.064</td>\n",
       "      <td>0.359</td>\n",
       "      <td>0.684</td>\n",
       "      <td>1.179</td>\n",
       "      <td>1.591</td>\n",
       "      <td>1.345</td>\n",
       "      <td>-1.348</td>\n",
       "      <td>-1.378</td>\n",
       "      <td>-1.396</td>\n",
       "      <td>1</td>\n",
       "    </tr>\n",
       "    <tr>\n",
       "      <th>2</th>\n",
       "      <td>-1.282</td>\n",
       "      <td>0.533</td>\n",
       "      <td>0.537</td>\n",
       "      <td>0.733</td>\n",
       "      <td>0.003</td>\n",
       "      <td>-0.065</td>\n",
       "      <td>0.746</td>\n",
       "      <td>1.381</td>\n",
       "      <td>1.468</td>\n",
       "      <td>1.390</td>\n",
       "      <td>-1.335</td>\n",
       "      <td>-1.367</td>\n",
       "      <td>-1.390</td>\n",
       "      <td>0</td>\n",
       "    </tr>\n",
       "    <tr>\n",
       "      <th>3</th>\n",
       "      <td>-1.283</td>\n",
       "      <td>-0.758</td>\n",
       "      <td>-0.075</td>\n",
       "      <td>0.538</td>\n",
       "      <td>0.732</td>\n",
       "      <td>0.002</td>\n",
       "      <td>0.538</td>\n",
       "      <td>1.228</td>\n",
       "      <td>1.524</td>\n",
       "      <td>1.195</td>\n",
       "      <td>-1.325</td>\n",
       "      <td>-1.358</td>\n",
       "      <td>-1.385</td>\n",
       "      <td>0</td>\n",
       "    </tr>\n",
       "    <tr>\n",
       "      <th>4</th>\n",
       "      <td>-1.300</td>\n",
       "      <td>0.968</td>\n",
       "      <td>-0.549</td>\n",
       "      <td>-0.075</td>\n",
       "      <td>0.537</td>\n",
       "      <td>0.732</td>\n",
       "      <td>0.305</td>\n",
       "      <td>0.520</td>\n",
       "      <td>1.317</td>\n",
       "      <td>0.990</td>\n",
       "      <td>-1.319</td>\n",
       "      <td>-1.351</td>\n",
       "      <td>-1.380</td>\n",
       "      <td>1</td>\n",
       "    </tr>\n",
       "    <tr>\n",
       "      <th>5</th>\n",
       "      <td>-1.283</td>\n",
       "      <td>-0.921</td>\n",
       "      <td>0.465</td>\n",
       "      <td>-0.549</td>\n",
       "      <td>-0.075</td>\n",
       "      <td>0.537</td>\n",
       "      <td>0.526</td>\n",
       "      <td>0.714</td>\n",
       "      <td>1.158</td>\n",
       "      <td>1.162</td>\n",
       "      <td>-1.312</td>\n",
       "      <td>-1.344</td>\n",
       "      <td>-1.375</td>\n",
       "      <td>1</td>\n",
       "    </tr>\n",
       "    <tr>\n",
       "      <th>6</th>\n",
       "      <td>-1.259</td>\n",
       "      <td>0.073</td>\n",
       "      <td>0.672</td>\n",
       "      <td>0.465</td>\n",
       "      <td>-0.549</td>\n",
       "      <td>-0.076</td>\n",
       "      <td>0.497</td>\n",
       "      <td>0.917</td>\n",
       "      <td>1.310</td>\n",
       "      <td>1.712</td>\n",
       "      <td>-1.301</td>\n",
       "      <td>-1.335</td>\n",
       "      <td>-1.369</td>\n",
       "      <td>0</td>\n",
       "    </tr>\n",
       "    <tr>\n",
       "      <th>7</th>\n",
       "      <td>-1.278</td>\n",
       "      <td>0.217</td>\n",
       "      <td>-0.590</td>\n",
       "      <td>0.672</td>\n",
       "      <td>0.465</td>\n",
       "      <td>-0.550</td>\n",
       "      <td>-0.039</td>\n",
       "      <td>0.544</td>\n",
       "      <td>1.123</td>\n",
       "      <td>1.279</td>\n",
       "      <td>-1.296</td>\n",
       "      <td>-1.328</td>\n",
       "      <td>-1.364</td>\n",
       "      <td>0</td>\n",
       "    </tr>\n",
       "    <tr>\n",
       "      <th>8</th>\n",
       "      <td>-1.284</td>\n",
       "      <td>0.848</td>\n",
       "      <td>-0.212</td>\n",
       "      <td>-0.589</td>\n",
       "      <td>0.672</td>\n",
       "      <td>0.464</td>\n",
       "      <td>-0.104</td>\n",
       "      <td>0.333</td>\n",
       "      <td>0.952</td>\n",
       "      <td>1.290</td>\n",
       "      <td>-1.293</td>\n",
       "      <td>-1.322</td>\n",
       "      <td>-1.359</td>\n",
       "      <td>1</td>\n",
       "    </tr>\n",
       "    <tr>\n",
       "      <th>9</th>\n",
       "      <td>-1.281</td>\n",
       "      <td>-0.862</td>\n",
       "      <td>0.031</td>\n",
       "      <td>-0.212</td>\n",
       "      <td>-0.590</td>\n",
       "      <td>0.671</td>\n",
       "      <td>0.171</td>\n",
       "      <td>0.368</td>\n",
       "      <td>0.542</td>\n",
       "      <td>1.271</td>\n",
       "      <td>-1.290</td>\n",
       "      <td>-1.317</td>\n",
       "      <td>-1.355</td>\n",
       "      <td>1</td>\n",
       "    </tr>\n",
       "  </tbody>\n",
       "</table>\n",
       "</div>"
      ],
      "text/plain": [
       "   Close  Volume    mom   mom1   mom2   mom3  ROC_5  ROC_10  ROC_15  ROC_20  \\\n",
       "0 -1.328  -0.796  0.003 -0.064  0.360  0.407  0.396   0.976   0.960   1.633   \n",
       "1 -1.302   0.138  0.732  0.003 -0.064  0.359  0.684   1.179   1.591   1.345   \n",
       "2 -1.282   0.533  0.537  0.733  0.003 -0.065  0.746   1.381   1.468   1.390   \n",
       "3 -1.283  -0.758 -0.075  0.538  0.732  0.002  0.538   1.228   1.524   1.195   \n",
       "4 -1.300   0.968 -0.549 -0.075  0.537  0.732  0.305   0.520   1.317   0.990   \n",
       "5 -1.283  -0.921  0.465 -0.549 -0.075  0.537  0.526   0.714   1.158   1.162   \n",
       "6 -1.259   0.073  0.672  0.465 -0.549 -0.076  0.497   0.917   1.310   1.712   \n",
       "7 -1.278   0.217 -0.590  0.672  0.465 -0.550 -0.039   0.544   1.123   1.279   \n",
       "8 -1.284   0.848 -0.212 -0.589  0.672  0.464 -0.104   0.333   0.952   1.290   \n",
       "9 -1.281  -0.862  0.031 -0.212 -0.590  0.671  0.171   0.368   0.542   1.271   \n",
       "\n",
       "   EMA_10  EMA_20  EMA_50  Y_bi  \n",
       "0  -1.359  -1.387  -1.401     1  \n",
       "1  -1.348  -1.378  -1.396     1  \n",
       "2  -1.335  -1.367  -1.390     0  \n",
       "3  -1.325  -1.358  -1.385     0  \n",
       "4  -1.319  -1.351  -1.380     1  \n",
       "5  -1.312  -1.344  -1.375     1  \n",
       "6  -1.301  -1.335  -1.369     0  \n",
       "7  -1.296  -1.328  -1.364     0  \n",
       "8  -1.293  -1.322  -1.359     1  \n",
       "9  -1.290  -1.317  -1.355     1  "
      ]
     },
     "execution_count": 7,
     "metadata": {},
     "output_type": "execute_result"
    }
   ],
   "source": [
    " # add Y_bi column, 0 or 1\n",
    "\n",
    "data_scaled_df['Y_bi']=0                   \n",
    "for i in range(len(data_scaled_df)-1):\n",
    "    if data_scaled_df.at[i+1, 'Close'] > data_scaled_df.at[i, 'Close']:\n",
    "        data_scaled_df.at[i, 'Y_bi']=1\n",
    "\n",
    "data_scaled_df.head(10)"
   ]
  },
  {
   "cell_type": "code",
   "execution_count": 9,
   "metadata": {},
   "outputs": [
    {
     "name": "stdout",
     "output_type": "stream",
     "text": [
      "(1935, 8)\n",
      "(1935, 1)\n",
      "(1935, 1)\n"
     ]
    }
   ],
   "source": [
    "# define X, Y, Y_bi\n",
    "\n",
    "feature_cols = ['Close', 'Volume', 'mom', 'mom3', 'ROC_5', 'ROC_20', 'EMA_10', 'EMA_20']\n",
    "target_col = ['Close']\n",
    "\n",
    "X_scaled = data_scaled_df[feature_cols]\n",
    "Y_scaled = data_scaled_df[target_col]\n",
    "Y_bi = data_scaled_df[['Y_bi']]\n",
    "\n",
    "print(X_scaled.shape)\n",
    "print(Y_scaled.shape)\n",
    "print(Y_bi.shape)"
   ]
  },
  {
   "cell_type": "code",
   "execution_count": 10,
   "metadata": {},
   "outputs": [
    {
     "name": "stdout",
     "output_type": "stream",
     "text": [
      "(1931, 5, 8)\n",
      "(1931, 1)\n",
      "(1931, 1)\n"
     ]
    }
   ],
   "source": [
    "# Slice the transformed dataset in every lookback days\n",
    "\n",
    "lookback = 5\n",
    "lookback_value_list = []\n",
    "\n",
    "for i in range(len(X_scaled)):     # each row\n",
    "    item = X_scaled[i:(i+lookback)]      # 5 rows\n",
    "    lookback_value_list.append(item)   # group 5 rows\n",
    "    \n",
    "lookback_value_list = lookback_value_list[:-4]    # drop last 4 items\n",
    "X_scaled = np.stack(lookback_value_list, axis=0)             \n",
    "Y_scaled = Y_scaled.shift(periods=-5)[:len(X_scaled)]                       \n",
    "Y_bi = Y_bi.shift(periods=-1)[:len(X_scaled)]         \n",
    "# Y_scaled = Y_scaled[:len(X_scaled)]                       \n",
    "# Y_bi = Y_bi[:len(X_scaled)] \n",
    "\n",
    "print(X_scaled.shape)\n",
    "print(Y_scaled.shape)\n",
    "print(Y_bi.shape)"
   ]
  },
  {
   "cell_type": "code",
   "execution_count": 11,
   "metadata": {},
   "outputs": [
    {
     "name": "stdout",
     "output_type": "stream",
     "text": [
      "Show a few observations:\n",
      "Before transformation:\n",
      "          Close    Volume       mom\n",
      "49  1150.510010 -0.155038  0.000452\n",
      "50  1159.459961  0.049389  0.007779\n",
      "51  1166.209961  0.135803  0.005822\n",
      "52  1165.829956 -0.146819 -0.000326\n",
      "53  1159.900024  0.230936 -0.005086\n",
      "54  1165.810059 -0.182397  0.005095\n",
      "55  1174.170044  0.035188  0.007171\n",
      "\n",
      "After transformation:\n",
      "X:\n",
      "[[[-1.328 -0.796  0.003]\n",
      "  [-1.302  0.138  0.732]\n",
      "  [-1.282  0.533  0.537]\n",
      "  [-1.283 -0.758 -0.075]\n",
      "  [-1.3    0.968 -0.549]]\n",
      "\n",
      " [[-1.302  0.138  0.732]\n",
      "  [-1.282  0.533  0.537]\n",
      "  [-1.283 -0.758 -0.075]\n",
      "  [-1.3    0.968 -0.549]\n",
      "  [-1.283 -0.921  0.465]]]\n",
      "\n",
      "Y - Regression:\n",
      "   Close\n",
      "0 -1.283\n",
      "1 -1.259\n",
      "Y - Classification:\n",
      "   Y_bi\n",
      "0   1.0\n",
      "1   0.0\n"
     ]
    }
   ],
   "source": [
    "print(\"Show a few observations:\")\n",
    "print(\"Before transformation:\")\n",
    "print(data.iloc[0:7,0:3])\n",
    "print(\"\\nAfter transformation:\")\n",
    "print(\"X:\")\n",
    "print(X_scaled[0:2,:,0:3])\n",
    "print(\"\\nY - Regression:\")\n",
    "print(Y_scaled[0:2])\n",
    "print(\"Y - Classification:\")\n",
    "print(Y_bi[0:2])"
   ]
  },
  {
   "cell_type": "code",
   "execution_count": 12,
   "metadata": {},
   "outputs": [
    {
     "name": "stdout",
     "output_type": "stream",
     "text": [
      "Train X, Y, Y_binary shapes: \n",
      " (1239, 5, 8) (1239, 1) (1239, 1)\n",
      "Validation X, Y, Y_binary shapes: \n",
      " (310, 5, 8) (310, 1) (310, 1)\n",
      "Test X, Y, Y_binary shapes: \n",
      " (386, 5, 8) (386, 1) (386, 1)\n"
     ]
    }
   ],
   "source": [
    "# Split transformed data into training, validation and testing subsets\n",
    "\n",
    "from sklearn.model_selection import train_test_split\n",
    "\n",
    "test_Y = Y_scaled[(-len(test_data)):]\n",
    "test_Y_bi = Y_bi[(-len(test_data)):]\n",
    "test_X = X_scaled[(-len(test_data)):]\n",
    "\n",
    "train_X, val_X, train_Y, val_Y, train_Y_bi, val_Y_bi = train_test_split(\\\n",
    "                                                                        X_scaled[:len(train_data)], \\\n",
    "                                                                        Y_scaled[:len(train_data)],\\\n",
    "                                                                        Y_bi[:len(train_data)],\\\n",
    "                                                                        test_size=0.2, shuffle=True)\n",
    "\n",
    "print('Train X, Y, Y_binary shapes: \\n', train_X.shape, train_Y.shape, train_Y_bi.shape)\n",
    "print('Validation X, Y, Y_binary shapes: \\n', val_X.shape, val_Y.shape, val_Y_bi.shape)\n",
    "print('Test X, Y, Y_binary shapes: \\n', test_X.shape, test_Y.shape, test_Y_bi.shape)"
   ]
  },
  {
   "cell_type": "markdown",
   "metadata": {},
   "source": [
    "## Task 2: Establish a naive baseline\n",
    "\n",
    "Create a function `evaluate_naive_method` to estalish a baseline. Your objective is to try to beat the baseline by a RNN model. A simple baselien can be created as follows:\n",
    "* Let's use the mean indice of each observation as the baseline, i.e. the prediction is the mean of the indices in the last `lookback` days. For example, the prediction from `X[0]` in the above example is `X[0,:,0].mean(axis = 0)`, which is  `-1.2985`.\n",
    "* Calculate the `mean absolute error (MAE)` and `accuracy` on the `testing data` as the baseline, i.e. the error of the previous example is `abs(Y[0] - X[0,:,0].mean(axis = 0))`\n",
    "* Feel free to use more advanced method, i.e. ARIMA, to creat a baseline. "
   ]
  },
  {
   "cell_type": "code",
   "execution_count": 13,
   "metadata": {},
   "outputs": [
    {
     "name": "stdout",
     "output_type": "stream",
     "text": [
      "MAE: 0.035\n"
     ]
    }
   ],
   "source": [
    "# MAE mean absolute error  ~~~   test set\n",
    "\n",
    "# mean from lookbacks\n",
    "means = []\n",
    "for i in range(len(test_X)):\n",
    "    mean = test_X[i,:,0].mean(axis = 0)\n",
    "    means.append(mean)\n",
    "\n",
    "# MAE\n",
    "from sklearn.metrics import mean_absolute_error\n",
    "mae = mean_absolute_error(test_Y.values.tolist()[:-1], means[:-1])\n",
    "print('MAE: {:.3f}'.format(mae))"
   ]
  },
  {
   "cell_type": "code",
   "execution_count": 14,
   "metadata": {},
   "outputs": [
    {
     "name": "stdout",
     "output_type": "stream",
     "text": [
      "Accuracy:0.610\n"
     ]
    }
   ],
   "source": [
    "# Accuracy\n",
    "\n",
    "Y_bi_pred = []\n",
    "for i in range(len(means)-1):\n",
    "    if means[i+1] > means[i]:\n",
    "        pred = 1\n",
    "    else:\n",
    "        pred = 0\n",
    "    Y_bi_pred.append(pred)\n",
    "\n",
    "\n",
    "from sklearn.metrics import accuracy_score\n",
    "\n",
    "acc = accuracy_score(test_Y_bi[:-1], Y_bi_pred)\n",
    "print('Accuracy:{:.3f}'.format(acc))"
   ]
  },
  {
   "cell_type": "markdown",
   "metadata": {},
   "source": [
    "## Task 3:  A first recurrent model\n",
    "\n",
    "1. create two neural network models as follows:\n",
    "    - The input to the model is the the training samples you created in Task 1 \n",
    "    - Add LSTM or GRU layers into the model\n",
    "    - Use 20% samples for validation\n",
    "    - Add other appropriate layers or mechanisms, e.g. Dropout, regularizers.\n",
    "    - Target and output layer:\n",
    "        - Model A: the output predicts the `Close` indice of the next day \n",
    "        - Model B: whether the indice of the next day is higher than the current day\n",
    "    - Carefully choose your hyperparameters, e.g. the number of hidden units in the LSTM/GRU layer, epochs, batch size etc.\n",
    "    \n",
    "    \n",
    "2. Create a function `train_model` to \n",
    "    - Compile and fit the model\n",
    "    - Plot the training history to ensure there is no overfitting\n",
    "    - Calculate and print the testing MAE (or accuracy for the classification task)\n",
    "    \n",
    "    \n",
    "3. Note, there are a large number of features in the dataset. `You don't have to use all of them. You can selectively pick a few of them which you think they would be helpful`."
   ]
  },
  {
   "cell_type": "code",
   "execution_count": 15,
   "metadata": {},
   "outputs": [
    {
     "name": "stderr",
     "output_type": "stream",
     "text": [
      "Using TensorFlow backend.\n"
     ]
    }
   ],
   "source": [
    "from keras.models import Sequential\n",
    "from keras.layers import SimpleRNN\n",
    "from keras.layers import Dense\n",
    "from keras.layers import LSTM\n",
    "from keras.layers import Bidirectional\n",
    "import matplotlib.pyplot as plt"
   ]
  },
  {
   "cell_type": "code",
   "execution_count": 16,
   "metadata": {},
   "outputs": [],
   "source": [
    "def classifier(feature_dim=2):\n",
    "    model = Sequential()\n",
    "    model.add(LSTM(units = 50, dropout=0.2, return_sequences = False, input_shape=train_X.shape[-feature_dim:]))\n",
    "    model.add(Dense(1, activation='sigmoid'))\n",
    "    \n",
    "    model.compile(optimizer='rmsprop', loss='binary_crossentropy', metrics=['acc'])\n",
    "    \n",
    "    return model"
   ]
  },
  {
   "cell_type": "code",
   "execution_count": 17,
   "metadata": {},
   "outputs": [
    {
     "name": "stdout",
     "output_type": "stream",
     "text": [
      "Train on 1239 samples, validate on 310 samples\n",
      "Epoch 1/30\n",
      "1239/1239 [==============================] - 0s 340us/step - loss: 0.6781 - acc: 0.5642 - val_loss: 0.6630 - val_acc: 0.6323\n",
      "Epoch 2/30\n",
      "1239/1239 [==============================] - 0s 61us/step - loss: 0.6542 - acc: 0.6400 - val_loss: 0.6452 - val_acc: 0.6452\n",
      "Epoch 3/30\n",
      "1239/1239 [==============================] - 0s 62us/step - loss: 0.6404 - acc: 0.6457 - val_loss: 0.6330 - val_acc: 0.6774\n",
      "Epoch 4/30\n",
      "1239/1239 [==============================] - 0s 62us/step - loss: 0.6271 - acc: 0.6699 - val_loss: 0.6182 - val_acc: 0.6935\n",
      "Epoch 5/30\n",
      "1239/1239 [==============================] - 0s 65us/step - loss: 0.6192 - acc: 0.6578 - val_loss: 0.6029 - val_acc: 0.6968\n",
      "Epoch 6/30\n",
      "1239/1239 [==============================] - 0s 61us/step - loss: 0.6125 - acc: 0.6836 - val_loss: 0.5914 - val_acc: 0.7097\n",
      "Epoch 7/30\n",
      "1239/1239 [==============================] - 0s 61us/step - loss: 0.6054 - acc: 0.6917 - val_loss: 0.5819 - val_acc: 0.7323\n",
      "Epoch 8/30\n",
      "1239/1239 [==============================] - 0s 61us/step - loss: 0.5899 - acc: 0.7006 - val_loss: 0.5692 - val_acc: 0.7387\n",
      "Epoch 9/30\n",
      "1239/1239 [==============================] - 0s 63us/step - loss: 0.5848 - acc: 0.7030 - val_loss: 0.5541 - val_acc: 0.7323\n",
      "Epoch 10/30\n",
      "1239/1239 [==============================] - 0s 60us/step - loss: 0.5667 - acc: 0.7127 - val_loss: 0.5424 - val_acc: 0.7419\n",
      "Epoch 11/30\n",
      "1239/1239 [==============================] - 0s 60us/step - loss: 0.5586 - acc: 0.7288 - val_loss: 0.5266 - val_acc: 0.7290\n",
      "Epoch 12/30\n",
      "1239/1239 [==============================] - 0s 66us/step - loss: 0.5539 - acc: 0.7151 - val_loss: 0.5166 - val_acc: 0.7323\n",
      "Epoch 13/30\n",
      "1239/1239 [==============================] - 0s 63us/step - loss: 0.5356 - acc: 0.7377 - val_loss: 0.5059 - val_acc: 0.7355\n",
      "Epoch 14/30\n",
      "1239/1239 [==============================] - 0s 63us/step - loss: 0.5365 - acc: 0.7199 - val_loss: 0.4973 - val_acc: 0.7710\n",
      "Epoch 15/30\n",
      "1239/1239 [==============================] - 0s 60us/step - loss: 0.5334 - acc: 0.7409 - val_loss: 0.4889 - val_acc: 0.7742\n",
      "Epoch 16/30\n",
      "1239/1239 [==============================] - 0s 62us/step - loss: 0.5255 - acc: 0.7353 - val_loss: 0.4817 - val_acc: 0.7581\n",
      "Epoch 17/30\n",
      "1239/1239 [==============================] - 0s 59us/step - loss: 0.5067 - acc: 0.7595 - val_loss: 0.4741 - val_acc: 0.7742\n",
      "Epoch 18/30\n",
      "1239/1239 [==============================] - 0s 60us/step - loss: 0.5114 - acc: 0.7377 - val_loss: 0.4647 - val_acc: 0.7645\n",
      "Epoch 19/30\n",
      "1239/1239 [==============================] - 0s 61us/step - loss: 0.4831 - acc: 0.7603 - val_loss: 0.4638 - val_acc: 0.7710\n",
      "Epoch 20/30\n",
      "1239/1239 [==============================] - 0s 60us/step - loss: 0.4970 - acc: 0.7571 - val_loss: 0.4504 - val_acc: 0.7710\n",
      "Epoch 21/30\n",
      "1239/1239 [==============================] - 0s 61us/step - loss: 0.4892 - acc: 0.7603 - val_loss: 0.4427 - val_acc: 0.7774\n",
      "Epoch 22/30\n",
      "1239/1239 [==============================] - 0s 58us/step - loss: 0.4810 - acc: 0.7772 - val_loss: 0.4356 - val_acc: 0.7774\n",
      "Epoch 23/30\n",
      "1239/1239 [==============================] - 0s 62us/step - loss: 0.4619 - acc: 0.7885 - val_loss: 0.4265 - val_acc: 0.7742\n",
      "Epoch 24/30\n",
      "1239/1239 [==============================] - 0s 67us/step - loss: 0.4628 - acc: 0.7813 - val_loss: 0.4233 - val_acc: 0.8065\n",
      "Epoch 25/30\n",
      "1239/1239 [==============================] - 0s 62us/step - loss: 0.4634 - acc: 0.7764 - val_loss: 0.4184 - val_acc: 0.7968\n",
      "Epoch 26/30\n",
      "1239/1239 [==============================] - 0s 61us/step - loss: 0.4483 - acc: 0.7926 - val_loss: 0.4068 - val_acc: 0.8129\n",
      "Epoch 27/30\n",
      "1239/1239 [==============================] - 0s 60us/step - loss: 0.4371 - acc: 0.8063 - val_loss: 0.3972 - val_acc: 0.8065\n",
      "Epoch 28/30\n",
      "1239/1239 [==============================] - 0s 60us/step - loss: 0.4439 - acc: 0.8006 - val_loss: 0.3902 - val_acc: 0.8194\n",
      "Epoch 29/30\n",
      "1239/1239 [==============================] - 0s 60us/step - loss: 0.4257 - acc: 0.8103 - val_loss: 0.3780 - val_acc: 0.8290\n",
      "Epoch 30/30\n",
      "1239/1239 [==============================] - 0s 62us/step - loss: 0.4122 - acc: 0.8224 - val_loss: 0.3670 - val_acc: 0.8387\n"
     ]
    }
   ],
   "source": [
    "classifier = classifier(feature_dim=2)\n",
    "\n",
    "history = classifier.fit(train_X, train_Y_bi, epochs=30, batch_size=64, validation_data=(val_X, val_Y_bi))"
   ]
  },
  {
   "cell_type": "code",
   "execution_count": 18,
   "metadata": {},
   "outputs": [
    {
     "name": "stdout",
     "output_type": "stream",
     "text": [
      "386/386 [==============================] - 0s 39us/step\n"
     ]
    },
    {
     "data": {
      "text/plain": [
       "[0.49238668775929073, 0.7564767003059387]"
      ]
     },
     "execution_count": 18,
     "metadata": {},
     "output_type": "execute_result"
    }
   ],
   "source": [
    "classifier.evaluate(test_X, test_Y_bi)"
   ]
  },
  {
   "cell_type": "code",
   "execution_count": 19,
   "metadata": {},
   "outputs": [],
   "source": [
    "def get_plot(history):\n",
    "    acc = history.history['acc']\n",
    "    val_acc = history.history['val_acc']\n",
    "    loss = history.history['loss']\n",
    "    val_loss = history.history['val_loss']\n",
    "    epochs = range(len(acc))\n",
    "    plt.plot(epochs, acc, 'bo', label='Training acc')\n",
    "    plt.plot(epochs, val_acc, 'b', label='Validation acc')\n",
    "    plt.title('Training and validation accuracy')\n",
    "    plt.legend()\n",
    "    plt.figure()\n",
    "    plt.plot(epochs, loss, 'bo', label='Training loss')\n",
    "    plt.plot(epochs, val_loss, 'b', label='Validation loss')\n",
    "    plt.title('Training and validation loss')\n",
    "    plt.legend()\n",
    "    plt.show()"
   ]
  },
  {
   "cell_type": "code",
   "execution_count": 20,
   "metadata": {},
   "outputs": [
    {
     "data": {
      "image/png": "[encoded data removed]",
      "text/plain": [
       "<Figure size 432x288 with 1 Axes>"
      ]
     },
     "metadata": {
      "needs_background": "light"
     },
     "output_type": "display_data"
    },
    {
     "data": {
      "image/png": "[encoded data removed]",
      "text/plain": [
       "<Figure size 432x288 with 1 Axes>"
      ]
     },
     "metadata": {
      "needs_background": "light"
     },
     "output_type": "display_data"
    }
   ],
   "source": [
    "get_plot(history)"
   ]
  },
  {
   "cell_type": "code",
   "execution_count": 21,
   "metadata": {},
   "outputs": [],
   "source": [
    "def regressor(feature_dim=2):\n",
    "    model = Sequential()\n",
    "    model.add(LSTM(units = 50, dropout=0.2, return_sequences = False, input_shape=train_X.shape[-feature_dim:]))\n",
    "    model.add(Dense(1, activation='relu'))\n",
    "    \n",
    "    model.compile(optimizer='rmsprop', loss='mse', metrics=['acc'])\n",
    "    \n",
    "    return model"
   ]
  },
  {
   "cell_type": "code",
   "execution_count": 22,
   "metadata": {},
   "outputs": [
    {
     "name": "stdout",
     "output_type": "stream",
     "text": [
      "Train on 1239 samples, validate on 310 samples\n",
      "Epoch 1/30\n",
      "1239/1239 [==============================] - 0s 331us/step - loss: 0.6630 - acc: 0.0000e+00 - val_loss: 0.5638 - val_acc: 0.0000e+00\n",
      "Epoch 2/30\n",
      "1239/1239 [==============================] - 0s 65us/step - loss: 0.4989 - acc: 0.0000e+00 - val_loss: 0.5622 - val_acc: 0.0000e+00\n",
      "Epoch 3/30\n",
      "1239/1239 [==============================] - 0s 59us/step - loss: 0.4864 - acc: 0.0000e+00 - val_loss: 0.5663 - val_acc: 0.0000e+00\n",
      "Epoch 4/30\n",
      "1239/1239 [==============================] - 0s 63us/step - loss: 0.4897 - acc: 0.0000e+00 - val_loss: 0.5630 - val_acc: 0.0000e+00\n",
      "Epoch 5/30\n",
      "1239/1239 [==============================] - 0s 67us/step - loss: 0.4769 - acc: 0.0000e+00 - val_loss: 0.5638 - val_acc: 0.0000e+00\n",
      "Epoch 6/30\n",
      "1239/1239 [==============================] - 0s 64us/step - loss: 0.4800 - acc: 0.0000e+00 - val_loss: 0.5627 - val_acc: 0.0000e+00\n",
      "Epoch 7/30\n",
      "1239/1239 [==============================] - 0s 61us/step - loss: 0.4768 - acc: 0.0000e+00 - val_loss: 0.5657 - val_acc: 0.0000e+00\n",
      "Epoch 8/30\n",
      "1239/1239 [==============================] - 0s 59us/step - loss: 0.4703 - acc: 0.0000e+00 - val_loss: 0.5665 - val_acc: 0.0000e+00\n",
      "Epoch 9/30\n",
      "1239/1239 [==============================] - 0s 64us/step - loss: 0.4735 - acc: 0.0000e+00 - val_loss: 0.5630 - val_acc: 0.0000e+00\n",
      "Epoch 10/30\n",
      "1239/1239 [==============================] - 0s 64us/step - loss: 0.4747 - acc: 0.0000e+00 - val_loss: 0.5642 - val_acc: 0.0000e+00\n",
      "Epoch 11/30\n",
      "1239/1239 [==============================] - 0s 62us/step - loss: 0.4692 - acc: 0.0000e+00 - val_loss: 0.5688 - val_acc: 0.0000e+00\n",
      "Epoch 12/30\n",
      "1239/1239 [==============================] - 0s 65us/step - loss: 0.4718 - acc: 0.0000e+00 - val_loss: 0.5608 - val_acc: 0.0000e+00\n",
      "Epoch 13/30\n",
      "1239/1239 [==============================] - 0s 62us/step - loss: 0.4668 - acc: 0.0000e+00 - val_loss: 0.5671 - val_acc: 0.0000e+00\n",
      "Epoch 14/30\n",
      "1239/1239 [==============================] - 0s 64us/step - loss: 0.4689 - acc: 0.0000e+00 - val_loss: 0.5646 - val_acc: 0.0000e+00\n",
      "Epoch 15/30\n",
      "1239/1239 [==============================] - 0s 62us/step - loss: 0.4687 - acc: 0.0000e+00 - val_loss: 0.5812 - val_acc: 0.0000e+00\n",
      "Epoch 16/30\n",
      "1239/1239 [==============================] - 0s 66us/step - loss: 0.4679 - acc: 0.0000e+00 - val_loss: 0.5682 - val_acc: 0.0000e+00\n",
      "Epoch 17/30\n",
      "1239/1239 [==============================] - 0s 63us/step - loss: 0.4682 - acc: 0.0000e+00 - val_loss: 0.5654 - val_acc: 0.0000e+00\n",
      "Epoch 18/30\n",
      "1239/1239 [==============================] - 0s 64us/step - loss: 0.4624 - acc: 0.0000e+00 - val_loss: 0.5695 - val_acc: 0.0000e+00\n",
      "Epoch 19/30\n",
      "1239/1239 [==============================] - 0s 62us/step - loss: 0.4665 - acc: 0.0000e+00 - val_loss: 0.5683 - val_acc: 0.0000e+00\n",
      "Epoch 20/30\n",
      "1239/1239 [==============================] - 0s 64us/step - loss: 0.4675 - acc: 0.0000e+00 - val_loss: 0.5806 - val_acc: 0.0000e+00\n",
      "Epoch 21/30\n",
      "1239/1239 [==============================] - 0s 60us/step - loss: 0.4676 - acc: 0.0000e+00 - val_loss: 0.5660 - val_acc: 0.0000e+00\n",
      "Epoch 22/30\n",
      "1239/1239 [==============================] - 0s 60us/step - loss: 0.4649 - acc: 0.0000e+00 - val_loss: 0.5736 - val_acc: 0.0000e+00\n",
      "Epoch 23/30\n",
      "1239/1239 [==============================] - 0s 60us/step - loss: 0.4711 - acc: 0.0000e+00 - val_loss: 0.5688 - val_acc: 0.0000e+00\n",
      "Epoch 24/30\n",
      "1239/1239 [==============================] - 0s 60us/step - loss: 0.4648 - acc: 0.0000e+00 - val_loss: 0.5724 - val_acc: 0.0000e+00\n",
      "Epoch 25/30\n",
      "1239/1239 [==============================] - 0s 59us/step - loss: 0.4627 - acc: 0.0000e+00 - val_loss: 0.5708 - val_acc: 0.0000e+00\n",
      "Epoch 26/30\n",
      "1239/1239 [==============================] - 0s 59us/step - loss: 0.4597 - acc: 0.0000e+00 - val_loss: 0.5882 - val_acc: 0.0000e+00\n",
      "Epoch 27/30\n",
      "1239/1239 [==============================] - 0s 64us/step - loss: 0.4619 - acc: 0.0000e+00 - val_loss: 0.5727 - val_acc: 0.0000e+00\n",
      "Epoch 28/30\n",
      "1239/1239 [==============================] - 0s 63us/step - loss: 0.4630 - acc: 0.0000e+00 - val_loss: 0.5707 - val_acc: 0.0000e+00\n",
      "Epoch 29/30\n",
      "1239/1239 [==============================] - 0s 62us/step - loss: 0.4624 - acc: 0.0000e+00 - val_loss: 0.5690 - val_acc: 0.0000e+00\n",
      "Epoch 30/30\n",
      "1239/1239 [==============================] - 0s 60us/step - loss: 0.4606 - acc: 0.0000e+00 - val_loss: 0.5635 - val_acc: 0.0000e+00\n"
     ]
    }
   ],
   "source": [
    "regressor = regressor(feature_dim=2)\n",
    "\n",
    "history = regressor.fit(train_X, train_Y, epochs=30, batch_size=64, validation_data=(val_X, val_Y))"
   ]
  },
  {
   "cell_type": "code",
   "execution_count": 23,
   "metadata": {},
   "outputs": [
    {
     "data": {
      "image/png": "[encoded data removed]",
      "text/plain": [
       "<Figure size 432x288 with 1 Axes>"
      ]
     },
     "metadata": {
      "needs_background": "light"
     },
     "output_type": "display_data"
    },
    {
     "data": {
      "image/png": "[encoded data removed]",
      "text/plain": [
       "<Figure size 432x288 with 1 Axes>"
      ]
     },
     "metadata": {
      "needs_background": "light"
     },
     "output_type": "display_data"
    }
   ],
   "source": [
    "get_plot(history)"
   ]
  },
  {
   "cell_type": "markdown",
   "metadata": {},
   "source": [
    "## Task 4:  Advanced recurrent model to beat the baseline\n",
    "\n",
    "Hope you have obtained a good model which can beat the baseline obtained by the naive method. Unfortunately, very likely, you may have found that a simple LSTM model cannot beat the naive baseline. \n",
    "\n",
    "Now try to create a more advanced model which can achieve better performance. A few options for you to consider:\n",
    "\n",
    "- Select only useful features manually or use CNN (as the reference paper did)\n",
    "- Use bidirectional RNN\n",
    "- Go deeper by stacking RNN or dense layers\n",
    "- Feature engineering with your knowledge in Financial Engineering\n",
    "- Be creative as you can!\n",
    "\n",
    "You can use include any mechanism you like into the model. The only requirement for this task is to have LSTM/GRU layers in your model.\n",
    "\n",
    "\n",
    "`Your target is to create a model which can outputform those two in Task 3. If you can beat the naive baseline, you'll get bonus credits!`"
   ]
  },
  {
   "cell_type": "code",
   "execution_count": 24,
   "metadata": {},
   "outputs": [
    {
     "name": "stdout",
     "output_type": "stream",
     "text": [
      "Train on 1239 samples, validate on 310 samples\n",
      "Epoch 1/30\n",
      "1239/1239 [==============================] - 1s 525us/step - loss: 0.6826 - acc: 0.5504 - val_loss: 0.6827 - val_acc: 0.5677\n",
      "Epoch 2/30\n",
      "1239/1239 [==============================] - 0s 68us/step - loss: 0.6639 - acc: 0.6126 - val_loss: 0.6684 - val_acc: 0.6065\n",
      "Epoch 3/30\n",
      "1239/1239 [==============================] - 0s 62us/step - loss: 0.6529 - acc: 0.6384 - val_loss: 0.6569 - val_acc: 0.6065\n",
      "Epoch 4/30\n",
      "1239/1239 [==============================] - 0s 61us/step - loss: 0.6440 - acc: 0.6497 - val_loss: 0.6495 - val_acc: 0.6290\n",
      "Epoch 5/30\n",
      "1239/1239 [==============================] - 0s 63us/step - loss: 0.6363 - acc: 0.6618 - val_loss: 0.6427 - val_acc: 0.6645\n",
      "Epoch 6/30\n",
      "1239/1239 [==============================] - 0s 62us/step - loss: 0.6290 - acc: 0.6651 - val_loss: 0.6345 - val_acc: 0.6613\n",
      "Epoch 7/30\n",
      "1239/1239 [==============================] - 0s 62us/step - loss: 0.6220 - acc: 0.6764 - val_loss: 0.6275 - val_acc: 0.6806\n",
      "Epoch 8/30\n",
      "1239/1239 [==============================] - 0s 60us/step - loss: 0.6149 - acc: 0.6772 - val_loss: 0.6219 - val_acc: 0.6806\n",
      "Epoch 9/30\n",
      "1239/1239 [==============================] - 0s 61us/step - loss: 0.6087 - acc: 0.6852 - val_loss: 0.6145 - val_acc: 0.6903\n",
      "Epoch 10/30\n",
      "1239/1239 [==============================] - 0s 66us/step - loss: 0.6022 - acc: 0.6917 - val_loss: 0.6080 - val_acc: 0.7032\n",
      "Epoch 11/30\n",
      "1239/1239 [==============================] - 0s 63us/step - loss: 0.5959 - acc: 0.7014 - val_loss: 0.6011 - val_acc: 0.6968\n",
      "Epoch 12/30\n",
      "1239/1239 [==============================] - 0s 67us/step - loss: 0.5900 - acc: 0.6990 - val_loss: 0.5928 - val_acc: 0.7097\n",
      "Epoch 13/30\n",
      "1239/1239 [==============================] - 0s 66us/step - loss: 0.5836 - acc: 0.7103 - val_loss: 0.5866 - val_acc: 0.7161\n",
      "Epoch 14/30\n",
      "1239/1239 [==============================] - 0s 66us/step - loss: 0.5776 - acc: 0.7127 - val_loss: 0.5810 - val_acc: 0.7129\n",
      "Epoch 15/30\n",
      "1239/1239 [==============================] - 0s 64us/step - loss: 0.5712 - acc: 0.7232 - val_loss: 0.5751 - val_acc: 0.7129\n",
      "Epoch 16/30\n",
      "1239/1239 [==============================] - 0s 60us/step - loss: 0.5652 - acc: 0.7167 - val_loss: 0.5668 - val_acc: 0.7323\n",
      "Epoch 17/30\n",
      "1239/1239 [==============================] - 0s 62us/step - loss: 0.5584 - acc: 0.7312 - val_loss: 0.5599 - val_acc: 0.7323\n",
      "Epoch 18/30\n",
      "1239/1239 [==============================] - 0s 62us/step - loss: 0.5520 - acc: 0.7320 - val_loss: 0.5547 - val_acc: 0.7258\n",
      "Epoch 19/30\n",
      "1239/1239 [==============================] - 0s 69us/step - loss: 0.5446 - acc: 0.7345 - val_loss: 0.5460 - val_acc: 0.7387\n",
      "Epoch 20/30\n",
      "1239/1239 [==============================] - 0s 70us/step - loss: 0.5373 - acc: 0.7377 - val_loss: 0.5376 - val_acc: 0.7484\n",
      "Epoch 21/30\n",
      "1239/1239 [==============================] - 0s 65us/step - loss: 0.5302 - acc: 0.7450 - val_loss: 0.5311 - val_acc: 0.7387\n",
      "Epoch 22/30\n",
      "1239/1239 [==============================] - 0s 62us/step - loss: 0.5222 - acc: 0.7571 - val_loss: 0.5227 - val_acc: 0.7419\n",
      "Epoch 23/30\n",
      "1239/1239 [==============================] - 0s 61us/step - loss: 0.5147 - acc: 0.7587 - val_loss: 0.5155 - val_acc: 0.7387\n",
      "Epoch 24/30\n",
      "1239/1239 [==============================] - 0s 65us/step - loss: 0.5063 - acc: 0.7627 - val_loss: 0.5081 - val_acc: 0.7516\n",
      "Epoch 25/30\n",
      "1239/1239 [==============================] - 0s 60us/step - loss: 0.4974 - acc: 0.7708 - val_loss: 0.4974 - val_acc: 0.7645\n",
      "Epoch 26/30\n",
      "1239/1239 [==============================] - 0s 64us/step - loss: 0.4884 - acc: 0.7789 - val_loss: 0.4880 - val_acc: 0.7710\n",
      "Epoch 27/30\n",
      "1239/1239 [==============================] - 0s 65us/step - loss: 0.4799 - acc: 0.7829 - val_loss: 0.4786 - val_acc: 0.7742\n",
      "Epoch 28/30\n",
      "1239/1239 [==============================] - 0s 63us/step - loss: 0.4707 - acc: 0.7877 - val_loss: 0.4689 - val_acc: 0.7742\n",
      "Epoch 29/30\n",
      "1239/1239 [==============================] - 0s 62us/step - loss: 0.4609 - acc: 0.7918 - val_loss: 0.4627 - val_acc: 0.7839\n",
      "Epoch 30/30\n",
      "1239/1239 [==============================] - 0s 60us/step - loss: 0.4514 - acc: 0.7942 - val_loss: 0.4524 - val_acc: 0.7903\n"
     ]
    }
   ],
   "source": [
    "# Classifier 2\n",
    "\n",
    "model = Sequential()\n",
    "model.add(Bidirectional(LSTM(10, return_sequences=False), input_shape=train_X.shape[-2:]))\n",
    "model.add(Dense(1, activation='sigmoid'))\n",
    "    \n",
    "model.compile(optimizer='rmsprop', loss='binary_crossentropy', metrics=['acc'])\n",
    "    \n",
    "history = model.fit(train_X, train_Y_bi, epochs=30, batch_size=64, validation_data=(val_X, val_Y_bi))"
   ]
  },
  {
   "cell_type": "code",
   "execution_count": 25,
   "metadata": {},
   "outputs": [
    {
     "name": "stdout",
     "output_type": "stream",
     "text": [
      "386/386 [==============================] - 0s 57us/step\n"
     ]
    },
    {
     "data": {
      "text/plain": [
       "[0.5266260229861798, 0.7538859844207764]"
      ]
     },
     "execution_count": 25,
     "metadata": {},
     "output_type": "execute_result"
    }
   ],
   "source": [
    "model.evaluate(test_X, test_Y_bi)"
   ]
  },
  {
   "cell_type": "code",
   "execution_count": 26,
   "metadata": {},
   "outputs": [
    {
     "data": {
      "image/png": "[encoded data removed]",
      "text/plain": [
       "<Figure size 432x288 with 1 Axes>"
      ]
     },
     "metadata": {
      "needs_background": "light"
     },
     "output_type": "display_data"
    },
    {
     "data": {
      "image/png": "[encoded data removed]",
      "text/plain": [
       "<Figure size 432x288 with 1 Axes>"
      ]
     },
     "metadata": {
      "needs_background": "light"
     },
     "output_type": "display_data"
    }
   ],
   "source": [
    "get_plot(history)"
   ]
  },
  {
   "cell_type": "code",
   "execution_count": 27,
   "metadata": {},
   "outputs": [
    {
     "name": "stdout",
     "output_type": "stream",
     "text": [
      "Train on 1239 samples, validate on 310 samples\n",
      "Epoch 1/30\n",
      "1239/1239 [==============================] - 1s 514us/step - loss: 0.6178 - acc: 0.0000e+00 - val_loss: 0.6059 - val_acc: 0.0000e+00\n",
      "Epoch 2/30\n",
      "1239/1239 [==============================] - 0s 61us/step - loss: 0.4928 - acc: 0.0000e+00 - val_loss: 0.5756 - val_acc: 0.0000e+00\n",
      "Epoch 3/30\n",
      "1239/1239 [==============================] - 0s 67us/step - loss: 0.4732 - acc: 0.0000e+00 - val_loss: 0.5693 - val_acc: 0.0000e+00\n",
      "Epoch 4/30\n",
      "1239/1239 [==============================] - 0s 69us/step - loss: 0.4667 - acc: 0.0000e+00 - val_loss: 0.5661 - val_acc: 0.0000e+00\n",
      "Epoch 5/30\n",
      "1239/1239 [==============================] - 0s 67us/step - loss: 0.4627 - acc: 0.0000e+00 - val_loss: 0.5639 - val_acc: 0.0000e+00\n",
      "Epoch 6/30\n",
      "1239/1239 [==============================] - 0s 67us/step - loss: 0.4608 - acc: 0.0000e+00 - val_loss: 0.5628 - val_acc: 0.0000e+00\n",
      "Epoch 7/30\n",
      "1239/1239 [==============================] - 0s 64us/step - loss: 0.4597 - acc: 0.0000e+00 - val_loss: 0.5624 - val_acc: 0.0000e+00\n",
      "Epoch 8/30\n",
      "1239/1239 [==============================] - 0s 70us/step - loss: 0.4591 - acc: 0.0000e+00 - val_loss: 0.5618 - val_acc: 0.0000e+00\n",
      "Epoch 9/30\n",
      "1239/1239 [==============================] - 0s 70us/step - loss: 0.4587 - acc: 0.0000e+00 - val_loss: 0.5610 - val_acc: 0.0000e+00\n",
      "Epoch 10/30\n",
      "1239/1239 [==============================] - 0s 69us/step - loss: 0.4583 - acc: 0.0000e+00 - val_loss: 0.5604 - val_acc: 0.0000e+00\n",
      "Epoch 11/30\n",
      "1239/1239 [==============================] - 0s 68us/step - loss: 0.4582 - acc: 0.0000e+00 - val_loss: 0.5602 - val_acc: 0.0000e+00\n",
      "Epoch 12/30\n",
      "1239/1239 [==============================] - 0s 68us/step - loss: 0.4581 - acc: 0.0000e+00 - val_loss: 0.5599 - val_acc: 0.0000e+00\n",
      "Epoch 13/30\n",
      "1239/1239 [==============================] - 0s 67us/step - loss: 0.4580 - acc: 0.0000e+00 - val_loss: 0.5599 - val_acc: 0.0000e+00\n",
      "Epoch 14/30\n",
      "1239/1239 [==============================] - 0s 65us/step - loss: 0.4579 - acc: 0.0000e+00 - val_loss: 0.5596 - val_acc: 0.0000e+00\n",
      "Epoch 15/30\n",
      "1239/1239 [==============================] - 0s 63us/step - loss: 0.4578 - acc: 0.0000e+00 - val_loss: 0.5599 - val_acc: 0.0000e+00\n",
      "Epoch 16/30\n",
      "1239/1239 [==============================] - 0s 64us/step - loss: 0.4578 - acc: 0.0000e+00 - val_loss: 0.5597 - val_acc: 0.0000e+00\n",
      "Epoch 17/30\n",
      "1239/1239 [==============================] - 0s 64us/step - loss: 0.4576 - acc: 0.0000e+00 - val_loss: 0.5597 - val_acc: 0.0000e+00\n",
      "Epoch 18/30\n",
      "1239/1239 [==============================] - ETA: 0s - loss: 0.4511 - acc: 0.0000e+0 - 0s 65us/step - loss: 0.4577 - acc: 0.0000e+00 - val_loss: 0.5599 - val_acc: 0.0000e+00\n",
      "Epoch 19/30\n",
      "1239/1239 [==============================] - 0s 64us/step - loss: 0.4577 - acc: 0.0000e+00 - val_loss: 0.5597 - val_acc: 0.0000e+00\n",
      "Epoch 20/30\n",
      "1239/1239 [==============================] - 0s 68us/step - loss: 0.4576 - acc: 0.0000e+00 - val_loss: 0.5592 - val_acc: 0.0000e+00\n",
      "Epoch 21/30\n",
      "1239/1239 [==============================] - 0s 68us/step - loss: 0.4576 - acc: 0.0000e+00 - val_loss: 0.5592 - val_acc: 0.0000e+00\n",
      "Epoch 22/30\n",
      "1239/1239 [==============================] - 0s 69us/step - loss: 0.4576 - acc: 0.0000e+00 - val_loss: 0.5590 - val_acc: 0.0000e+00\n",
      "Epoch 23/30\n",
      "1239/1239 [==============================] - 0s 69us/step - loss: 0.4576 - acc: 0.0000e+00 - val_loss: 0.5590 - val_acc: 0.0000e+00\n",
      "Epoch 24/30\n",
      "1239/1239 [==============================] - 0s 71us/step - loss: 0.4576 - acc: 0.0000e+00 - val_loss: 0.5589 - val_acc: 0.0000e+00\n",
      "Epoch 25/30\n",
      "1239/1239 [==============================] - 0s 70us/step - loss: 0.4575 - acc: 0.0000e+00 - val_loss: 0.5591 - val_acc: 0.0000e+00\n",
      "Epoch 26/30\n",
      "1239/1239 [==============================] - 0s 70us/step - loss: 0.4575 - acc: 0.0000e+00 - val_loss: 0.5590 - val_acc: 0.0000e+00\n",
      "Epoch 27/30\n",
      "1239/1239 [==============================] - 0s 63us/step - loss: 0.4575 - acc: 0.0000e+00 - val_loss: 0.5589 - val_acc: 0.0000e+00\n",
      "Epoch 28/30\n",
      "1239/1239 [==============================] - 0s 63us/step - loss: 0.4574 - acc: 0.0000e+00 - val_loss: 0.5595 - val_acc: 0.0000e+00\n",
      "Epoch 29/30\n",
      "1239/1239 [==============================] - 0s 64us/step - loss: 0.4574 - acc: 0.0000e+00 - val_loss: 0.5590 - val_acc: 0.0000e+00\n",
      "Epoch 30/30\n",
      "1239/1239 [==============================] - 0s 65us/step - loss: 0.4575 - acc: 0.0000e+00 - val_loss: 0.5589 - val_acc: 0.0000e+00\n"
     ]
    }
   ],
   "source": [
    "# regressor 2\n",
    "\n",
    "model = Sequential()\n",
    "model.add(Bidirectional(LSTM(10, return_sequences=False), input_shape=train_X.shape[-2:]))\n",
    "model.add(Dense(1, activation='relu'))\n",
    "    \n",
    "model.compile(optimizer='rmsprop', loss='mse', metrics=['acc'])\n",
    "\n",
    "history = model.fit(train_X, train_Y, epochs=30, batch_size=64, validation_data=(val_X, val_Y))"
   ]
  },
  {
   "cell_type": "code",
   "execution_count": 28,
   "metadata": {},
   "outputs": [
    {
     "data": {
      "image/png": "[encoded data removed]",
      "text/plain": [
       "<Figure size 432x288 with 1 Axes>"
      ]
     },
     "metadata": {
      "needs_background": "light"
     },
     "output_type": "display_data"
    },
    {
     "data": {
      "image/png": "[encoded data removed]",
      "text/plain": [
       "<Figure size 432x288 with 1 Axes>"
      ]
     },
     "metadata": {
      "needs_background": "light"
     },
     "output_type": "display_data"
    }
   ],
   "source": [
    "get_plot(history)"
   ]
  },
  {
   "cell_type": "markdown",
   "metadata": {},
   "source": [
    "## Task 5: Analysis\n",
    "\n",
    "Hope you have achieved your goal!\n",
    "\n",
    "Now write a short analysis to discuss what you have learned from this assignment:\n",
    "- What have worked and what didn't work as expected?\n",
    "- How did you choose hyperparaters?\n",
    "- How did you tune the models?\n",
    "\n",
    "\n",
    "Good luck!"
   ]
  },
  {
   "cell_type": "markdown",
   "metadata": {},
   "source": [
    "Accuracy from (bidirectional) RNN classifier with LSTM can reach 0.8, higher than biseline. "
   ]
  }
 ],
 "metadata": {
  "kernelspec": {
   "display_name": "Python 3",
   "language": "python",
   "name": "python3"
  },
  "language_info": {
   "codemirror_mode": {
    "name": "ipython",
    "version": 3
   },
   "file_extension": ".py",
   "mimetype": "text/x-python",
   "name": "python",
   "nbconvert_exporter": "python",
   "pygments_lexer": "ipython3",
   "version": "3.8.5"
  }
 },
 "nbformat": 4,
 "nbformat_minor": 2
}
